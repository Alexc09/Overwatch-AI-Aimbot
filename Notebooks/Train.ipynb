{
 "cells": [
  {
   "cell_type": "markdown",
   "metadata": {},
   "source": [
    "## Installation of Object Detection API\n",
    "\n",
    "for /f %i in ('dir /b object_detection\\protos\\*.proto') do protoc object_detection\\protos\\%i --python_out=.\n",
    "\n",
    "^ Use this command instead of the normal protoc one"
   ]
  },
  {
   "cell_type": "code",
   "execution_count": 1,
   "metadata": {},
   "outputs": [],
   "source": [
    "import os\n",
    "import shutil\n",
    "import tensorflow as tf\n",
    "from object_detection.utils import config_util\n",
    "from object_detection.protos import pipeline_pb2\n",
    "from google.protobuf import text_format"
   ]
  },
  {
   "cell_type": "code",
   "execution_count": 2,
   "metadata": {},
   "outputs": [
    {
     "data": {
      "text/plain": [
       "['.ipynb_checkpoints',\n",
       " 'instructions.txt',\n",
       " 'locateMouse.py',\n",
       " 'main.py',\n",
       " 'processImg.py',\n",
       " 'TestDetection.ipynb',\n",
       " 'testDetection.py',\n",
       " 'Train.ipynb',\n",
       " 'Workspace']"
      ]
     },
     "execution_count": 2,
     "metadata": {},
     "output_type": "execute_result"
    }
   ],
   "source": [
    "os.listdir()"
   ]
  },
  {
   "cell_type": "markdown",
   "metadata": {},
   "source": [
    "### Require Changes\n",
    "\n",
    "Place all images and annotations in Workspace/images/train OR Workspace/images/test\n",
    "\n",
    "\n",
    "Imgs and annots are in the same folder"
   ]
  },
  {
   "cell_type": "code",
   "execution_count": 3,
   "metadata": {},
   "outputs": [],
   "source": [
    "# Folder containing tensorflow files (Installed via github)\n",
    "TENSORFLOW_PATH = \"../RealTimeObjectDetection/Tensorflow\"\n",
    "\n",
    "# Folder containing all own files (Images, Annotations, Models, etc..)\n",
    "WORKSPACE_PATH = \"Workspace\"\n",
    "\n",
    "# Tensorflow script to generate tf Record\n",
    "SCRIPTS_PATH = TENSORFLOW_PATH + \"/scripts\"\n",
    "APIMODEL_PATH = TENSORFLOW_PATH + \"/models\"\n",
    "\n",
    "ANNOTATION_PATH = WORKSPACE_PATH + \"/annotations\"\n",
    "IMAGE_PATH = WORKSPACE_PATH + '/images'\n",
    "MODEL_PATH = WORKSPACE_PATH + '/my_models'\n",
    "PRETRAINED_MODEL_PATH = WORKSPACE_PATH + \"/pre-trained-models\"\n",
    "\n",
    "# Change this\n",
    "CUSTOM_MODEL_NAME = 'over_ssdnet'\n",
    "CONFIG_PATH = MODEL_PATH + f'/{CUSTOM_MODEL_NAME}/pipeline.config'\n",
    "CHECKPOINT_PATH = MODEL_PATH + f'/{CUSTOM_MODEL_NAME}/'"
   ]
  },
  {
   "cell_type": "markdown",
   "metadata": {},
   "source": [
    "### Require Changes"
   ]
  },
  {
   "cell_type": "code",
   "execution_count": 4,
   "metadata": {},
   "outputs": [],
   "source": [
    "# Change this\n",
    "labels = [{'name': 'head', 'id': 1}]\n",
    "\n",
    "with open(ANNOTATION_PATH + '/label_map.pbtxt', 'w+') as f:\n",
    "    for label in labels:\n",
    "        f.write('item { \\n')\n",
    "        f.write('\\tname:\\'{}\\'\\n'.format(label['name']))\n",
    "        f.write('\\tid:{}\\n'.format(label['id']))\n",
    "        f.write('}\\n')"
   ]
  },
  {
   "cell_type": "code",
   "execution_count": 5,
   "metadata": {},
   "outputs": [
    {
     "data": {
      "text/plain": [
       "['models', 'scripts', 'workspace']"
      ]
     },
     "execution_count": 5,
     "metadata": {},
     "output_type": "execute_result"
    }
   ],
   "source": [
    "os.listdir(TENSORFLOW_PATH)"
   ]
  },
  {
   "cell_type": "code",
   "execution_count": 6,
   "metadata": {},
   "outputs": [
    {
     "name": "stdout",
     "output_type": "stream",
     "text": [
      "Successfully created the TFRecord file: Workspace/annotations/train.record\n",
      "Successfully created the TFRecord file: Workspace/annotations/test.record\n"
     ]
    }
   ],
   "source": [
    "!python {SCRIPTS_PATH + '/generate_tfrecord.py'} -x {IMAGE_PATH + '/train'} -l {ANNOTATION_PATH + '/label_map.pbtxt'} -o {ANNOTATION_PATH + '/train.record'}\n",
    "!python {SCRIPTS_PATH + '/generate_tfrecord.py'} -x{IMAGE_PATH + '/test'} -l {ANNOTATION_PATH + '/label_map.pbtxt'} -o {ANNOTATION_PATH + '/test.record'}"
   ]
  },
  {
   "cell_type": "code",
   "execution_count": 7,
   "metadata": {},
   "outputs": [
    {
     "data": {
      "text/plain": [
       "'Workspace/my_models/over_ssdnet\\\\pipeline.config'"
      ]
     },
     "execution_count": 7,
     "metadata": {},
     "output_type": "execute_result"
    }
   ],
   "source": [
    "# Copy the pretrained pipeline.config file to the \\models\\CUSTOM_MODEL_NAME folder\n",
    "\n",
    "OVERWATCH_MODEL_PATH = MODEL_PATH + '/' + CUSTOM_MODEL_NAME\n",
    "if not os.path.exists(OVERWATCH_MODEL_PATH):\n",
    "    os.mkdir(OVERWATCH_MODEL_PATH)\n",
    "\n",
    "pretrained_config_path = PRETRAINED_MODEL_PATH + '/ssd_mobilenet_v2_fpnlite_320x320_coco17_tpu-8/pipeline.config'\n",
    "shutil.copy(pretrained_config_path, OVERWATCH_MODEL_PATH)"
   ]
  },
  {
   "cell_type": "code",
   "execution_count": 8,
   "metadata": {},
   "outputs": [],
   "source": [
    "CONFIG_PATH = OVERWATCH_MODEL_PATH + '/pipeline.config'\n",
    "config = config_util.get_configs_from_pipeline_file(CONFIG_PATH)"
   ]
  },
  {
   "cell_type": "code",
   "execution_count": 9,
   "metadata": {},
   "outputs": [],
   "source": [
    "pipeline_config = pipeline_pb2.TrainEvalPipelineConfig()\n",
    "with tf.io.gfile.GFile(CONFIG_PATH, \"r\") as f:                                                                                                                                                                                                                     \n",
    "    proto_str = f.read()\n",
    "    # Pass in the config string as first param, and the config variable as second param\n",
    "    text_format.Merge(proto_str, pipeline_config)"
   ]
  },
  {
   "cell_type": "code",
   "execution_count": 10,
   "metadata": {},
   "outputs": [
    {
     "data": {
      "text/plain": [
       "'Workspace/annotations'"
      ]
     },
     "execution_count": 10,
     "metadata": {},
     "output_type": "execute_result"
    }
   ],
   "source": [
    "ANNOTATION_PATH"
   ]
  },
  {
   "cell_type": "code",
   "execution_count": 11,
   "metadata": {},
   "outputs": [],
   "source": [
    "# 2 classes\n",
    "pipeline_config.model.ssd.num_classes = 1\n",
    "# Set batch size to 4\n",
    "pipeline_config.train_config.batch_size = 4\n",
    "# Where you want your model to start training from. Here, you want to utilize the checkpoint-0 in the pre-trained model (Transfer Learning)\n",
    "pipeline_config.train_config.fine_tune_checkpoint = PRETRAINED_MODEL_PATH + '/ssd_mobilenet_v2_fpnlite_320x320_coco17_tpu-8/checkpoint/ckpt-0'\n",
    "# Specify the type of task\n",
    "pipeline_config.train_config.fine_tune_checkpoint_type = \"detection\"\n",
    "# Specify your label_map_path and the tfrecords for train & test\n",
    "pipeline_config.train_input_reader.label_map_path= ANNOTATION_PATH + '/label_map.pbtxt'\n",
    "pipeline_config.train_input_reader.tf_record_input_reader.input_path[:] = [ANNOTATION_PATH + '/train.record']\n",
    "pipeline_config.eval_input_reader[0].label_map_path = ANNOTATION_PATH + '/label_map.pbtxt'\n",
    "pipeline_config.eval_input_reader[0].tf_record_input_reader.input_path[:] = [ANNOTATION_PATH + '/test.record']"
   ]
  },
  {
   "cell_type": "code",
   "execution_count": 12,
   "metadata": {},
   "outputs": [],
   "source": [
    "config_text = text_format.MessageToString(pipeline_config)                                                                                                                                                                                                        \n",
    "with tf.io.gfile.GFile(CONFIG_PATH, \"wb\") as f:                                                                                                                                                                                                                     \n",
    "    f.write(config_text)"
   ]
  },
  {
   "cell_type": "code",
   "execution_count": 13,
   "metadata": {},
   "outputs": [],
   "source": [
    "'''\n",
    "Here, you specify the:\n",
    "- object_detection_main: Filepath to the object_detection python file in the git repo (tensorflow models) that was cloned\n",
    "- model_dir: Filepath where you want to save your model checkpoints to\n",
    "- pipeline_config_path: Filepath to pipeline.config file (This contains the filepaths to tfrecords, labels, batch_size, etc..)\n",
    "- num_train_steps: Number of epochs\n",
    "'''\n",
    "\n",
    "TRAIN_STEPS=50\n",
    "OBJECT_DETECTION_MAIN = f\"{APIMODEL_PATH}/research/object_detection/model_main_tf2.py\"\n",
    "PIPELINE_CONFIG_PATH = OVERWATCH_MODEL_PATH + \"/pipeline.config\""
   ]
  },
  {
   "cell_type": "code",
   "execution_count": 14,
   "metadata": {},
   "outputs": [
    {
     "name": "stdout",
     "output_type": "stream",
     "text": [
      "python ../RealTimeObjectDetection/Tensorflow/models/research/object_detection/model_main_tf2.py --model_dir=Workspace/my_models/over_ssdnet --pipeline_config_path=Workspace/my_models/over_ssdnet/pipeline.config --num_train_steps=50\n"
     ]
    }
   ],
   "source": [
    "print(f\"python {OBJECT_DETECTION_MAIN} --model_dir={OVERWATCH_MODEL_PATH} --pipeline_config_path={PIPELINE_CONFIG_PATH} --num_train_steps={TRAIN_STEPS}\")"
   ]
  },
  {
   "cell_type": "code",
   "execution_count": 15,
   "metadata": {},
   "outputs": [],
   "source": [
    "# C:\\Users\\alexc\\PycharmProjects\\ObjectDetection\\Overwatch"
   ]
  },
  {
   "cell_type": "code",
   "execution_count": null,
   "metadata": {},
   "outputs": [],
   "source": []
  }
 ],
 "metadata": {
  "kernelspec": {
   "display_name": "Python 3",
   "language": "python",
   "name": "python3"
  },
  "language_info": {
   "codemirror_mode": {
    "name": "ipython",
    "version": 3
   },
   "file_extension": ".py",
   "mimetype": "text/x-python",
   "name": "python",
   "nbconvert_exporter": "python",
   "pygments_lexer": "ipython3",
   "version": "3.8.8"
  }
 },
 "nbformat": 4,
 "nbformat_minor": 4
}
